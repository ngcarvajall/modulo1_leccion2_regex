{
 "cells": [
  {
   "cell_type": "markdown",
   "metadata": {},
   "source": [
    "<div style=\"text-align: center;\">\n",
    "  <img src=\"https://github.com/Hack-io-Data/Imagenes/blob/main/01-LogosHackio/logo_naranja@4x.png?raw=true\" alt=\"esquema\" />\n",
    "</div>"
   ]
  },
  {
   "cell_type": "markdown",
   "metadata": {},
   "source": [
    "# Laboratorio de Regex:"
   ]
  },
  {
   "cell_type": "markdown",
   "metadata": {},
   "source": [
    "### Ejercicio 1: Extracción de datos.\n",
    "\n",
    "Recuerda que necesitamos hacer importaciones antes de enfrentarnos a un problema. "
   ]
  },
  {
   "cell_type": "code",
   "execution_count": 22,
   "metadata": {},
   "outputs": [],
   "source": [
    "# Importaciones:\n",
    "## Para trabajar con expresiones regulares\n",
    "import re \n",
    "\n",
    "## Para contar las palabras de un texto \n",
    "from collections import Counter "
   ]
  },
  {
   "cell_type": "markdown",
   "metadata": {},
   "source": [
    "Dado el archivo `datos_artistas.txt` usa las **expresiones regulares** para extraer los siguientes datos, con el código que encontrarás en la siguiente celda:"
   ]
  },
  {
   "cell_type": "code",
   "execution_count": 23,
   "metadata": {},
   "outputs": [
    {
     "name": "stdout",
     "output_type": "stream",
     "text": [
      "\n",
      "BobDylan bob.dylan@gmail.com -1 123456789 http://bobdylan.com Like a Rolling Stone - 6:13 1965 Once upon a time you dressed so fine\n",
      "Threw the bums a dime in your prime, didn't you?\n",
      "People call say 'b\n"
     ]
    }
   ],
   "source": [
    "with open('datos_artistas.txt', 'r', encoding='utf-8') as archivo:\n",
    "    contenido = archivo.read()\n",
    "    # Aquí puedes trabajar con el contenido del archivo\n",
    "\n",
    "print(contenido[:200])"
   ]
  },
  {
   "cell_type": "markdown",
   "metadata": {},
   "source": [
    "#### 1.1 La información de cada artista(nombre, correo de contacto, número de contacto y sitio web)."
   ]
  },
  {
   "cell_type": "code",
   "execution_count": 24,
   "metadata": {},
   "outputs": [],
   "source": [
    "### dividimos todo por ./\n",
    "aux = contenido.split('./')"
   ]
  },
  {
   "cell_type": "code",
   "execution_count": 25,
   "metadata": {},
   "outputs": [
    {
     "data": {
      "text/plain": [
       "[\"\\nBobDylan bob.dylan@gmail.com -1 123456789 http://bobdylan.com Like a Rolling Stone - 6:13 1965 Once upon a time you dressed so fine\\nThrew the bums a dime in your prime, didn't you?\\nPeople call say 'beware doll, you're bound to fall'\\nYou thought they were all kidding you\\nYou used to laugh about\\nEverybody that was hanging out\\nNow you don't talk so loud\\nNow you don't seem so proud\\nAbout having to be scrounging your next meal\\nHow does it feel, how does it feel?\\nTo be without a home\\nLike a complete unknown, like a rolling stone\\nAhh you've gone to the finest schools, alright Miss Lonely\\nBut you know you only used to get juiced in it\\nNobody's ever taught you how to live out on the street\\nAnd now you're gonna have to get used to it\\nYou say you never compromise\\nWith the mystery tramp, but now you realize\\nHe's not selling any alibis\\nAs you stare into the vacuum of his eyes\\nAnd say do you want to make a deal?\\nHow does it feel, how does it feel?\\nTo be on your own, with no direction home\\nA complete unknown, like a rolling stone\\nAh you never turned around to see the frowns\\nOn the jugglers and the clowns when they all did tricks for you\\nYou never understood that it ain't no good\\nYou shouldn't let other people get your kicks for you\\nYou used to ride on a chrome horse with your diplomat\\nWho carried on his shoulder a Siamese cat\\nAin't it hard when you discovered that\\nHe really wasn't where it's at\\nAfter he took from you everything he could steal\\nHow does it feel, how does it feel?\\nTo be on your own, with no direction home\\nLike a complete unknown, like a rolling stone\\nAhh princess on a steeple and all the pretty people\\nThey're all drinking, thinking that they've got it made\\nExchanging all precious gifts\\nBut you better take your diamond ring, you better pawn it babe\\nYou used to be so amused\\nAt Napoleon in rags and the language that he used\\nGo to him he calls you, you can't refuse\\nWhen you ain't got nothing, you got nothing to lose\\nYou're invisible now, you've got no secrets to conceal\\nHow does it feel, ah how does it feel?\\nTo be on your own, with no direction home\\nLike a complete unknown, like a rolling stone\",\n",
       " \"TheBeatles contact@thebeatles.co.uk -44 234567890 http://thebeatles.co.uk Hey Jude - 7:11 1968 Hey Jude, don't make it bad.\\nTake a sad song and make it better.\\nRemember to let her into your heart,\\nThen you can start to make it better.\\nHey Jude, don't be afraid.\\nYou were made to go out and get her.\\nThe minute you let her under your skin,\\nThen you begin to make it better.\\nAnd anytime you feel the pain, hey Jude, refrain,\\nDon't carry the world upon your shoulders.\\nFor well you know that it's a fool who plays it cool\\nBy making his world a little colder.\\nHey Jude, don't let me down.\\nYou have found her, now go and get her.\\nRemember to let her into your heart,\\nThen you can start to make it better.\\nSo let it out and let it in, hey Jude, begin,\\nYou're waiting for someone to perform with.\\nAnd don't you know that it's just you, hey Jude, you'll do,\\nThe movement you need is on your shoulder.\\nHey Jude, don't make it bad.\\nTake a sad song and make it better.\\nRemember to let her under your skin,\\nThen you'll begin to make it\\nBetter better better better better better, oh.\\nNa na na nananana, nannana, hey Jude...\\n(repeat X number of times, fade)\",\n",
       " \"EltonJohn elton.john@hotmail.com -34 345678901 http://eltonjohn.com Your Song - 4:01 1970 It's a little bit funny this feeling inside\\nI'm not one of those who can easily hide\\nI don't have much money, but, boy, if I did\\nI'd buy a big house where we both could live\\n\\nIf I was a sculptor, but then again, no\\nOr a man who makes potions in a travelling show\\nI know it's not much, but it's the best I can do\\nMy gift is my song and this one's for you\\n\\nAnd you can tell everybody this is your song\\nIt may be quite simple, but now that it's done\\nI hope you don't mind\\nI hope you don't mind that I put down in words\\nHow wonderful life is while you're in the world\\n\\nI sat on the roof and kicked off the moss\\nWell, a few of the verses, well, they've got me quite cross\\nBut the sun's been quite kind while I wrote this song\\nIt's for people like you that keep it turned on\\n\\nSo excuse me forgetting, but these things I do\\nYou see, I've forgotten if they're green or they're blue\\nAnyway the thing is what I really mean\\nYours are the sweetest eyes I've ever seen\\n\\nAnd you can tell everybody this is your song\\nIt may be quite simple, but now that it's done\\nI hope you don't mind\\nI hope you don't mind that I put down in words\\nHow wonderful life is while you're in the world\\n\\nI hope you don't mind\\nI hope you don't mind that I put down in words\\nHow wonderful life is while you're in the world\",\n",
       " \"Queen info@queenonline.com -23 456789012 http://queenonline.com Bohemian Rhapsody - 5:55 1975 Is this the real life? Is this just fantasy?\\nCaught in a landslide, no escape from reality\\nOpen your eyes, look up to the skies and see\\nI'm just a poor boy, I need no sympathy\\nBecause I'm easy come, easy go\\nLittle high, little low\\nAny way the wind blows doesn't really matter to me, to me\\nMama, just killed a man\\nPut a gun against his head, pulled my trigger, now he's dead\\nMama, life had just begun\\nBut now I've gone and thrown it all away\\nMama, ooh, didn't mean to make you cry\\nIf I'm not back again this time tomorrow\\nCarry on, carry on as if nothing really matters\\nToo late, my time has come\\nSends shivers down my spine, body's aching all the time\\nGoodbye, everybody, I've got to go\\nGotta leave you all behind and face the truth\\nMama, ooh (any way the wind blows)\\nI don't wanna die\\nI sometimes wish I'd never been born at all\\nI see a little silhouetto of a man\\nScaramouche, Scaramouche, will you do the Fandango?\\nThunderbolt and lightning, very, very frightening me\\n(Galileo) Galileo, (Galileo) Galileo, Galileo Figaro, magnifico\\nBut I'm just a poor boy, nobody loves me\\nHe's just a poor boy from a poor family\\nSpare him his life from this monstrosity\\nEasy come, easy go, will you let me go?\\nبِسْمِ ٱللَّٰهِ\\nNo, we will not let you go (let him go)\\nبِسْمِ ٱللَّٰهِ\\nWe will not let you go (let him go)\\nبِسْمِ ٱللَّٰهِ\\nWe will not let you go (let me go)\\nWill not let you go (let me go)\\nWill not let you go (never, never, never, never let me go)\\nNo, no, no, no, no, no, no\\nOh, mamma mia, mamma mia\\nMamma mia, let me go\\nBeelzebub has a devil put aside for me, for me, for me\\nSo you think you can stone me and spit in my eye?\\nSo you think you can love me and leave me to die?\\nOh, baby, can't do this to me, baby\\nJust gotta get out, just gotta get right outta here\\nOoh\\nOoh, yeah, ooh, yeah\\nNothing really matters, anyone can see\\nNothing really matters\\nNothing really matters to me\",\n",
       " \"MichaelJackson michael.jackson@yahoo.com -1 567890123 http://michaeljackson.com Billie Jean - 4:54 1982 She was more like a beauty queen from a movie scene\\nI said don't mind, but what do you mean, I am the one\\nWho will dance on the floor in the round?\\nShe said I am the one, who will dance on the floor in the round\\nShe told me her name was Billie Jean, as she caused a scene\\nThen every head turned with eyes that dreamed of being the one\\nWho will dance on the floor in the round\\nPeople always told me be careful of what you do\\nAnd don't go around breaking young girls' hearts\\nAnd mother always told me be careful of who you love\\nAnd be careful of what you do 'cause the lie becomes the truth\\nBillie Jean is not my lover\\nShe's just a girl who claims that I am the one\\nBut the kid is not my son\\nShe says I am the one, but the kid is not my son\\nFor forty days and forty nights\\nThe law was on her side\\nBut who can stand when she's in demand\\nHer schemes and plans\\n'Cause we danced on the floor in the round\\nSo take my strong advice, just remember to always think twice\\n(Do think twice, do think twice)\\nShe told my baby we'd danced 'til three, then she looked at me\\nThen showed a photo my baby cried his eyes were like mine (oh, no)\\n'Cause we danced on the floor in the round, baby\\nPeople always told me be careful of what you do\\nAnd don't go around breaking young girls' hearts\\nShe came and stood right by me\\nJust the smell of sweet perfume\\nThis happened much too soon\\nShe called me to her room\\nBillie Jean is not my lover\\nShe's just a girl who claims that I am the one\\nBut the kid is not my son\\nBillie Jean is not my lover\\nShe's just a girl who claims that I am the one\\nBut the kid is not my son\\nShe says I am the one, but the kid is not my son\\nShe says I am the one, but the kid is not my son\\nBillie Jean is not my lover\\nShe's just a girl who claims that I am the one\\nBut the kid is not my son\\nShe says I am the one, but the kid is not my son\\nShe says I am the one\\nYou know what you did, (she says he is my son) breaking my heart babe\\nShe says I am the one\\nBillie Jean is not my lover\\nBillie Jean is not my lover\\nBillie Jean is not my lover\\nBillie Jean is not my lover (don't Billie Jean)\\nBillie Jean is not my lover\\nBillie Jean is not my lover\",\n",
       " \"Madonna madonna@madonna.com -11 678901234 http://madonna.com Like a Prayer - 5:43 1989 Life is a mystery\\nEveryone must stand alone\\nI hear you call my name\\nAnd it feels like home\\nWhen you call my name, it's like a little prayer\\nI'm down on my knees, I wanna take you there\\nIn the midnight hour, I can feel your power\\nJust like a prayer, you know I'll take you there\\nI hear your voice\\nIt's like an angel sighin'\\nI have no choice\\nI hear your voice\\nFeels like flying\\nI close my eyes\\nOh God I think I'm fallin'\\nOut of the sky\\nI close my eyes\\nHeaven help me\\nWhen you call my name, it's like a little prayer\\nI'm down on my knees, I wanna take you there\\nIn the midnight hour, I can feel your power\\nJust like a prayer, you know I'll take you there\\nLike a child\\nYou whisper softly to me\\nYou're in control\\nJust like a child\\nNow I'm dancing\\nIt's like a dream\\nNo end and no beginning\\nYou're here with me\\nIt's like a dream\\nLet the choir sing\\nWhen you call my name, it's like a little prayer\\nI'm down on my knees, I wanna take you there\\nIn the midnight hour, I can feel your power\\nJust like a prayer, you know I'll take you there\\nWhen you call my name, it's like a little prayer\\nI'm down on my knees, I wanna take you there\\nIn the midnight hour, I can feel a power\\nJust like a prayer, you know I'll take you there\\nLife is a mystery\\nEveryone must stand alone\\nI hear you call my name\\nAnd it feels like home\\nJust like a prayer (oh-oh), your voice can take me there (oh-oh)\\nJust like a muse to me (oh-oh), you are a mystery (oh-oh)\\nJust like a dream (oh-oh), you are not what you seem\\nJust like a prayer, no choice your voice can take me there\\nmmm mm\\n(Just like a prayer, I'll take you there) I'll take you there\\n(It's like a dream to me) whoa oh-oh-oh\\n(Just like a prayer, I'll take you there) I'll take you there\\n(It's like a dream to me) oh yeah, oh yeah yeah yeah yeah\\n(Just like a prayer, I'll take you there) oh yeah yeah yee\\n(It's like a dream to me) whoa oh-oh\\nJust like a prayer, your voice can take me there (just like a prayer)\\nJust like a muse to me, you are a mystery (your voice can take me there)\\nJust like a dream, you are not what you seem (just like a prayer)\\nJust like a prayer, no choice your voice can take me there\\nJust like a prayer, your voice can take me there (just like a prayer)\\nJust like a muse to me, you are a mystery (your voice can take me there)\\nJust like a dream, you are not what you seem (just like a prayer)\\nJust like a prayer, no choice your voice can take me there\\nyour voice can take me there\\n(Your voice can take me there) just like a prayer\\n(Just like a prayer)\\n(Just like a prayer)\\n(Your voice can take me there)\\n(Just like a prayer)\\n(Just like a prayer)\\n(Your voice can take me there)\\n(Just like a prayer)\",\n",
       " \"DavidBowie david.bowie@outlook.com -44 789012345 http://davidbowie.com Space Oddity - 5:18 1969 JH: Nice, nice\\nDB: Didn't sound nice to me. Let's remember to do that. Ok, Hutch\\n(Begins playing)\\nDB: Ope, hun. Yeah?\\nJH: What a single!\\nDB: We're recording, now. Wait, Christie, don't talk.\\nGround Control to Major Tom\\nGround Control to Major Tom\\nTake your protein pills\\nAnd put your helmet on\\n(10) Ground Control (Nine) to Major Tom (Eight)\\n(Seven, six) Commencing (Five) countdown\\nEngines on (Four, three, two)\\nCheck ignition (One)\\nAnd may God's love (Blast off) be with you\\nThis is Major Tom to Ground Control\\nI'm feeling very still\\nAnd I think my spaceship knows which way to go\\nTell my wife I love her very much\\nShe knows\\nThough I'm passed 100, 000 miles\\nI'm feeling very still\\nAnd I think my spaceship know what I must do\\nAnd I think my life on earth is never through\\nGround Control to Major Tom\\nYou're off your course, direction's wrong\\nCan you hear me, Major Tom?\\nCan you hear me, Major Tom?\\nCan you hear me, Major Tom?\\nCan you hear?\\nAm I sitting in a tin can\\nFar above the Moon\\nThe planet Earth is blue\\nAnd there's nothing I can do\",\n",
       " \"Nirvana contact@nirvana.com -2 890123456 http://nirvana.com Smells Like Teen Spirit - 5:01 1991 Load up on guns, bring your friends\\nIt's fun to lose and to pretend\\nShe's over-bored and self-assured\\nOh no, I know a dirty word\\nHello, hello, hello, how low\\nHello, hello, hello, how low\\nHello, hello, hello, how low\\nHello, hello, hello\\nWith the lights out, it's less dangerous\\nHere we are now, entertain us\\nI feel stupid and contagious\\nHere we are now, entertain us\\nA mulatto, an albino\\nA mosquito, my libido\\nYeah\\nHey\\nYay\\nI'm worse at what I do best\\nAnd for this gift I feel blessed\\nOur little group has always been\\nAnd always will until the end\\nHello, hello, hello, how low\\nHello, hello, hello, how low\\nHello, hello, hello, how low\\nHello, hello, hello\\nWith the lights out, it's less dangerous\\nHere we are now, entertain us\\nI feel stupid and contagious\\nHere we are now, entertain us\\nA mulatto, an albino\\nA mosquito, my libido\\nYeah\\nHey\\nYay\\nAnd I forget just why I taste\\nOh yeah, I guess it makes me smile\\nI found it hard, it's hard to find\\nOoh well, whatever, nevermind\\nHello, hello, hello, how low\\nHello, hello, hello, how low\\nHello, hello, hello, how low\\nHello, hello, hello\\nWith the lights out, it's less dangerous\\nHere we are now, entertain us\\nI feel stupid and contagious\\nHere we are now, entertain us\\nA mulatto, an albino\\nA mosquito, my libido\\nA denial\\nA denial\\nA denial\\nA denial\\nA denial\\nA denial\\nA denial\\nA denial\\nA denial\",\n",
       " \"Adele adele@adele.com -44 901234567 http://adele.com Someone Like You - 4:45 2011 I heard that you're settled down\\nThat you found a girl and you're married now\\nI heard that your dreams came true\\nGuess she gave you things, I didn't give to you\\nOld friend, why are you so shy?\\nAin't like you to hold back or hide from the light\\nI hate to turn up out of the blue, uninvited\\nBut I couldn't stay away, I couldn't fight it\\nI had hoped you'd see my face\\nAnd that you'd be reminded that for me, it isn't over\\nNever mind, I'll find someone like you\\nI wish nothing but the best for you, too\\nDon't forget me,  I beg\\nI remember you said\\nSometimes it lasts in love, but sometimes it hurts instead\\nSometimes it lasts in love, but sometimes it hurts instead\\nYou know how the time flies\\nOnly yesterday was the time of our lives\\nWe were born and raised in a summer haze\\nBound by the surprise of our glory days\\nI hate to turn up out of the blue, uninvited\\nBut I couldn't stay away, I couldn't fight it\\nI had hoped you'd see my face\\nAnd that you'd be reminded that for me, it isn't over\\nNever mind, I'll find someone like you\\nI wish nothing but the best for you, too\\nDon't forget me,  I begged\\nI remember you said\\nSometimes it lasts in love, but sometimes it hurts instead\\nNothing compares, no worries or cares\\nRegrets and mistakes, they're memories made\\nWho would have known how bittersweet this would taste?\\nNever mind, I'll find someone like you\\nI wish nothing but the best for you\\nDon't forget me,  I beg\\nI remember you said\\nSometimes it lasts in love, but sometimes it hurts instead\\nNever mind, I'll find someone like you\\nI wish nothing but the best for you, too\\nDon't forget me,  I begged\\nI remember you said\\nSometimes it lasts in love, but sometimes it hurts instead\\nSometimes it lasts in love, but sometimes it hurts instead\",\n",
       " \"EdSheeran ed.sheeran@gmail.com -44 123456789 http://edsheeran.com Shape of You - 3:53 2017 The club isn't the best place to find a lover\\nSo the bar is where I go\\nMe and my friends at the table doing shots\\nDrinking fast and then we talk slow\\nCome over and start up a conversation with just me\\nAnd trust me I'll give it a chance now\\nTake my hand, stop, put Van the Man on the jukebox\\nAnd then we start to dance, and now I'm singing like\\nGirl, you know I want your love\\nYour love was handmade for somebody like me\\nCome on now, follow my lead\\nI may be crazy, don't mind me\\nSay, boy, let's not talk too much\\nGrab on my waist and put that body on me\\nCome on now, follow my lead\\nCome, come on now, follow my lead\\nI'm in love with the shape of you\\nWe push and pull like a magnet do\\nAlthough my heart is falling too\\nI'm in love with your body\\nAnd last night you were in my room\\nAnd now my bedsheets smell like you\\nEvery day discovering something brand new\\nI'm in love with your body\\n(Oh-I-oh-I-oh-I-oh-I)\\nI'm in love with your body\\n(Oh-I-oh-I-oh-I-oh-I)\\nI'm in love with your body\\n(Oh-I-oh-I-oh-I-oh-I)\\nI'm in love with your body\\nEvery day discovering something brand new\\nI'm in love with the shape of you\\nOne week in we let the story begin\\nWe're going out on our first date\\nYou and me are thrifty, so go all you can eat\\nFill up your bag and I fill up a plate\\nWe talk for hours and hours about the sweet and the sour\\nAnd how your family is doing okay\\nAnd leave and get in a taxi, then kiss in the backseat\\nTell the driver make the radio play, and I'm singing like\\nGirl, you know I want your love\\nYour love was handmade for somebody like me\\nCome on now, follow my lead\\nI may be crazy, don't mind me\\nSay, boy, let's not talk too much\\nGrab on my waist and put that body on me\\nCome on now, follow my lead\\nCome, come on now, follow my lead\\nI'm in love with the shape of you\\nWe push and pull like a magnet do\\nAlthough my heart is falling too\\nI'm in love with your body\\nAnd last night you were in my room\\nAnd now my bedsheets smell like you\\nEvery day discovering something brand new\\nI'm in love with your body\\n(Oh-I-oh-I-oh-I-oh-I)\\nI'm in love with your body\\n(Oh-I-oh-I-oh-I-oh-I)\\nI'm in love with your body\\n(Oh-I-oh-I-oh-I-oh-I)\\nI'm in love with your body\\nEvery day discovering something brand new\\nI'm in love with the shape of you\\nCome on, be my baby, come on\\nCome on, be my baby, come on\\nCome on, be my baby, come on\\nCome on, be my baby, come on\\nCome on, be my baby, come on\\nCome on, be my baby, come on\\nCome on, be my baby, come on\\nCome on, be my baby, come on\\nI'm in love with the shape of you\\nWe push and pull like a magnet do\\nAlthough my heart is falling too\\nI'm in love with your body\\nAnd last night you were in my room\\nAnd now my bedsheets smell like you\\nEvery day discovering something brand new\\nI'm in love with your body\\nCome on, be my baby, come on\\nCome on (I'm in love with your body), be my baby, come on\\nCome on, be my baby, come on\\nCome on (I'm in love with your body), be my baby, come on\\nCome on, be my baby, come on\\nCome on (I'm in love with your body), be my baby, come on\\nEvery day discovering something brand new\\nI'm in love with the shape of you\",\n",
       " \"Beyoncé beyonce@beyonce.com -1 234567890 http://beyonce.com Halo - 4:21 2008 Remember those walls I built?\\nWell, baby, they're tumbling down\\nAnd they didn't even put up a fight\\nThey didn't even make a sound\\nI found a way to let you in\\nBut I never really had a doubt\\nStandin' in the light of your halo\\nI got my angel now\\nIt's like I've been awakened\\nEvery rule I had you breakin'\\nIt's the risk that I'm takin'\\nI ain't never gonna shut you out\\nEverywhere I'm lookin' now\\nI'm surrounded by your embrace\\nBaby, I can see your halo\\nYou know you're my saving grace\\nYou're everything I need and more\\nIt's written all over your face\\nBaby, I can feel your halo\\nPray it won't fade away\\nI can feel your halo (halo) halo\\nI can see your halo (halo) halo\\nI can feel your halo (halo) halo\\nI can see your halo (halo) halo\\nHit me like a ray of sun\\nBurning through my darkest night\\nYou're the only one that I want\\nThink I'm addicted to your light\\nI swore I'd never fall again\\nBut this don't even feel like fallin'\\nGravity can't begin\\nTo pull me back to the ground again\\nIt's like I've been awakened\\nEvery rule I had you breakin'\\nThe risk that I'm takin'\\nI'm never gonna shut you out\\nEverywhere I'm lookin' now\\nI'm surrounded by your embrace\\nBaby, I can see your halo\\nYou know you're my saving grace\\nYou're everything I need and more\\nIt's written all over your face\\nBaby, I can feel your halo\\nPray it won't fade away\\nI can feel your halo (halo) halo\\nI can see your halo (halo) halo\\nI can feel your halo (halo) halo\\nI can see your halo (halo) halo\\nI can feel your halo (halo) halo\\nI can see your halo (halo) halo\\nI can feel your halo (halo) halo\\nI can see your halo (halo) halo\\nHalo\\nHalo\\nEverywhere I'm lookin' now\\nI'm surrounded by your embrace\\nBaby, I can see your halo\\nYou know you're my saving grace\\nYou're everything I need and more\\nIt's written all over your face\\nBaby, I can feel your halo\\nPray it won't fade away\\nI can feel your halo (halo) halo\\nI can see your halo (halo) halo\\nI can feel your halo (halo) halo\\nI can see your halo (halo) halo\\nI can feel your halo (halo) halo\\nI can see your halo (halo) halo\\nI can feel your halo (halo) halo\\nI can see your halo (halo) halo\",\n",
       " \"TaylorSwift taylor.swift@yahoo.com -34 345678901 http://taylorswift.com Blank Space - 3:52 2014 Nice to meet you, where you been?\\nI could show you incredible things\\nMagic, madness, heaven, sin\\nSaw you there and I thought\\nOh, my God, look at that face\\nYou look like my next mistake\\nLove's a game, wanna play? Ay\\nNew money, suit and tie\\nI can read you like a magazine\\nAin't it funny? Rumors fly\\nAnd I know you heard about me\\nSo hey, let's be friends\\nI'm dying to see how this one ends\\nGrab your passport and my hand\\nI can make the bad guys good for a weekend\\nSo it's gonna be forever\\nOr it's gonna go down in flames\\nYou can tell me when it's over, mm\\nIf the high was worth the pain\\nGot a long list of ex-lovers\\nThey'll tell you I'm insane\\n'Cause you know I love the players\\nAnd you love the game\\n'Cause we're young, and we're reckless\\nWe'll take this way too far\\nIt'll leave you breathless, mm\\nOr with a nasty scar\\nGot a long list of ex-lovers\\nThey'll tell you I'm insane\\nBut I've got a blank space, baby\\nAnd I'll write your name\\nCherry lips, crystal skies\\nI could show you incredible things\\nStolen kisses, pretty lies\\nYou're the King, baby, I'm your Queen\\nFind out what you want\\nBe that girl for a month\\nWait, the worst is yet to come, oh, no\\nScreaming, crying, perfect storms\\nI can make all the tables turn\\nRose garden filled with thorns\\nKeep you second guessing like\\nOh, my God, who is she?\\nI get drunk on jealousy\\nBut you'll come back each time you leave\\n'Cause, darling, I'm a nightmare dressed like a daydream\\nSo it's gonna be forever\\nOr it's gonna go down in flames\\nYou can tell me when it's over, mm\\nIf the high was worth the pain\\nGot a long list of ex-lovers\\nThey'll tell you I'm insane\\n'Cause you know I love the players\\nAnd you love the game\\n'Cause we're young, and we're reckless (oh)\\nWe'll take this way too far\\nIt'll leave you breathless, mm (oh)\\nOr with a nasty scar\\nGot a long list of ex-lovers\\nThey'll tell you I'm insane (insane)\\nBut I've got a blank space, baby\\nAnd I'll write your name\\nBoys only want love if it's torture\\nDon't say I didn't, say I didn't warn ya\\nBoys only want love if it's torture\\nDon't say I didn't, say I didn't warn ya\\nSo it's gonna be forever\\nOr it's gonna go down in flames\\nYou can tell me when it's over (over)\\nIf the high was worth the pain\\nGot a long list of ex-lovers\\nThey'll tell you I'm insane (I'm insane)\\n'Cause you know I love the players\\nAnd you love the game\\n'Cause we're young, and we're reckless\\nWe'll take this way too far (ooh)\\nIt'll leave you breathless, mm\\nOr with a nasty scar (leave a nasty scar)\\nGot a long list of ex-lovers\\nThey'll tell you I'm insane\\nBut I've got a blank space, baby\\nAnd I'll write your name\",\n",
       " \"Rihanna rihanna@hotmail.com -1 456789012 http://rihanna.com Diamonds - 3:45,2012 Shine bright like a diamond\\nShine bright like a diamond\\nFind light in the beautiful sea, I choose to be happy\\nYou and I, you and I, we're like diamonds in the sky\\nYou're a shooting star I see, a vision of ecstasy\\nWhen you hold me, I'm alive, we're like diamonds in the sky\\nI knew that we'd become one right away\\nOh, right away\\nAt first sight I felt the energy of sun rays\\nI saw the life inside your eyes\\nSo shine bright, tonight, you and I\\nWe're beautiful like diamonds in the sky\\nEye to eye, so alive\\nWe're beautiful like diamonds in the sky\\nShine bright like a diamond (whoa)\\nShine bright like a diamond (whoa)\\nShining bright like a diamond\\nWe're beautiful like diamonds in the sky\\nShine bright like a diamond (whoa)\\nShine bright like a diamond (whoa)\\nShining bright like a diamond\\nWe're beautiful like diamonds in the sky\\nPalms rise to the universe as we moonshine and molly\\nFeel the warmth, we'll never die, we're like diamonds in the sky\\nYou're a shooting star I see, a vision of ecstasy\\nWhen you hold me, I'm alive, we're like diamonds in the sky\\nAt first sight I felt the energy of sun rays\\nI saw the life inside your eyes\\nSo shine bright, tonight, you and I\\nWe're beautiful like diamonds in the sky\\nEye to eye, so alive\\nWe're beautiful like diamonds in the sky\\nShine bright like a diamond (whoa)\\nShine bright like a diamond (whoa)\\nShining bright like a diamond\\nWe're beautiful like diamonds in the sky\\nShine bright like a diamond (whoa)\\nShine bright like a diamond (whoa)\\nShining bright like a diamond\\nWe're beautiful like diamonds in the sky\\nShine bright like a diamond\\nShine bright like a diamond\\nShine bright like a diamond\\nSo shine bright, tonight, you and I\\nWe're beautiful like diamonds in the sky\\nEye to eye, so alive\\nWe're beautiful like diamonds in the sky\\nShine bright like a diamond (whoa)\\nShine bright like a diamond (whoa)\\nShine bright like a diamond, oh-oh, yeah\\nShine bright like a diamond (whoa)\\nShine bright like a diamond (whoa)\\nShine bright like a diamond\\nShine bright like a diamond\",\n",
       " \"Drake, drake@drake.com -54 567890123, http://drake.com Hotline Bling - 4:27 2015 You used to call me on my\\nYou used to, you used to\\nYeah\\nYou used to call me on my cell phone\\nLate night when you need my love\\nCall me on my cell phone\\nLate night when you need my love\\nAnd I know when that hotline bling\\nThat can only mean one thing\\nI know when that hotline bling\\nThat can only mean one thing\\nEver since I left the city, you\\nGot a reputation for yourself now\\nEverybody knows and I feel left out\\nGirl you got me down, you got me stressed out\\nCause ever since I left the city, you\\nStarted wearing less and goin' out more\\nGlasses of champagne out on the dance floor\\nHangin' with some girls I've never seen before\\nYou used to call me on my cell phone\\nLate night when you need my love\\nCall me on my cell phone\\nLate night when you need my love\\nI know when that hotline bling\\nThat can only mean one thing\\nI know when that hotline bling\\nThat can only mean one thing\\nEver since I left the city, you, you, you\\nYou and me, we just don't get along\\nYou make me feel like I did you wrong\\nGoing places where you don't belong\\nEver since I left the city, you\\nYou got exactly what you asked for\\nRunning out of pages in your passport\\nHanging with some girls I've never seen before\\nYou used to call me on my cell phone\\nLate night when you need my love\\nCall me on my cell phone\\nLate night when you need my love\\nAnd I know when that hotline bling\\nThat can only mean one thing\\nI know when that hotline bling\\nThat can only mean one thing\\nThese days, all I do is\\nWonder if you're bendin' over backwards for someone else\\nWonder if you're rolling up a Backwoods for someone else\\nDoing things I taught you, gettin' nasty for someone else\\nYou don't need no one else\\nYou don't need nobody else, no\\nWhy you never alone\\nWhy you always touching road\\nUsed to always stay at home, be a good girl\\nYou was in the zone, yeah\\nYou should just be yourself\\nRight now, you're someone else\\nYou used to call me on my cell phone\\nLate night when you need my love\\nCall me on my cell phone\\nLate night when you need my love\\nAnd I know when that hotline bling\\nThat can only mean one thing\\nI know when that hotline bling\\nThat can only mean one thing\\nEver since I left the city\",\n",
       " \"KanyeWest kanye.west@gmail.com -13 678901234 http://kanyewest.com Stronger - 5:12 2007 Work it, make it, do it\\nMakes us harder, better, faster, stronger\\nN-n-now that that don't kill me\\nCan only make me stronger\\nI need you to hurry up now\\n'Cause I can't wait much longer\\nI know I got to be right now\\n'Cause I can't get much wronger\\nMan, I've been waiting all night now\\nThat's how long I been on ya\\n(Work it harder, make it better)\\n(Do it faster, makes us stronger)\\nI need you right now\\n(More than ever, hour after hour, work)\\nI need you right now\\nLet's get lost tonight\\nYou could be my black Kate Moss tonight\\nPlay secretary, I'm the boss tonight\\nAnd you don't give a fuck what they all say, right?\\nAwesome, the Christian in Christian Dior\\nDamn, they don't make 'em like this anymore\\nI ask, 'cause I'm not sure\\nDo anybody make real shit anymore?\\nBow in the presence of greatness\\n'Cause right now thou hast forsaken us\\nYou should be honored by my lateness\\nThat I would even show up to this fake shit\\nSo go ahead, go nuts, go apeshit\\n'Specially in my Pastelle, on my Bape shit\\nAct like you can't tell who made this\\nNew Gospel, homie, take six and take this, haters\\nN-n-now that that don't kill me\\nCan only make me stronger\\nI need you to hurry up now\\n'Cause I can't wait much longer\\nI know I got to be right now\\n'Cause I can't get much wronger\\nMan, I've been waiting all night now\\nThat's how long I been on ya\\n(Work it harder, make it better)\\n(Do it faster, makes us stronger)\\nI need you right now\\n(More than ever, hour after hour, work)\\nI need you right now (me likey)\\nI don't know if you got a man or not\\nIf you made plans or not\\nIf God put me in your plans or not\\nI'm trippin', this drink got me sayin' a lot\\nBut I know that God put you in front of me\\nSo how the hell could you front on me?\\nIt's a thousand yous, there's only one of me\\nI'm trippin', I'm caught up in the moment, right?\\n'Cause it's Louis Vuitton Don night\\nSo we gonna do everything that Kan' like\\nHeard they'd do anything for a Klondike\\nWell, I'd do anything for a blonde dyke\\nAnd she'll do anything for the limelight\\nAnd we'll do anything when the time's right\\nUh, baby you're makin' it (harder, better, faster, stronger)\\nN-n-now that that don't kill me (oh, oh)\\nCan only make me stronger (oh)\\nI need you to hurry up now (oh)\\n'Cause I can't wait much longer (oh)\\nI know I got to be right now (oh)\\n'Cause I can't get much wronger (oh)\\nMan I've been waiting all night now\\nThat's how long I been on ya\\n(Work it harder, make it better)\\n(Do it faster, makes us stronger)\\nI need you right now\\n(More than ever, hour after hour)\\n(Work is never over) I need you right now\\nYou know how long I've been on ya?\\nSince Prince was on Apollonia\\nSince O.J. had Isotoners\\nDon't act like I never told ya\\nDon't act like I (never) told ya, uh\\nDon't act like I (never) told ya\\nDon't act like I (never) told ya\\nDon't act like I (never) told ya\\nUh, baby, you're makin' it (harder, better, faster, stronger)\\nN-n-now that that don't kill me\\nCan only make me stronger\\nI need you to hurry up now\\n'Cause I can't wait much longer\\nI know I got to be right now\\n'Cause I can't get much wronger\\nMan, I've been waiting all night now\\nThat's how long I been on ya\\n(Work it harder, make it better)\\n(Do it faster, makes us stronger)\\nI need you right now\\n(More than ever, hour after hour)\\n(Work is never over) I need you right now\\n(Work it harder, make it better)\\n(Do it faster, makes us stronger)\\nI need you right now\\n(More than ever, hour after hour)\\n(Work is never over) I need you right now\\nYou know how long I've been on ya?\\nSince Prince was on Apollonia\\nSince O.J. had Isotoners\\nDon't act like I never told ya\\n(Told ya, told ya, never told ya)\\n(Told ya, told ya, never told ya)\\n(Told ya, told ya, never told ya)\\n(Told ya, told ya, never told ya)\\n(More than ever, hour after hour)\\n(Work is never over)\\n(Work it harder, make it better)\\n(Do it faster, makes us stronger)\\n(More than ever, hour after hour)\\n(Work is never over)\",\n",
       " \"BrunoMars bruno.mars@outlook.com -1 789012345 https://brunomars.com Uptown Funk - 4:30 2014 Doh\\nDo-do-doh, do-do-doh, do-do\\nDo-do-doh, do-do-doh, do-do\\nDo-do-doh, do-do-doh, do-do\\nDo-do-doh (aow), do-do\\n\\nThis hit, that ice cold\\nMichelle Pfeiffer, that white gold\\nThis one for them hood girls\\nThem good girls\\nStraight masterpieces\\n\\nStylin', wilin'\\nLivin' it up in the city\\nGot Chucks on with Saint Laurent\\nGotta kiss myself\\nI'm so pretty\\n\\nI'm too hot (hot damn)\\nCall the police and the fireman\\nI'm too hot (hot damn)\\nMake a dragon wanna retire, man\\nI'm too hot (hot damn)\\nSay my name, you know who I am\\nI'm too hot (hot damn)\\nAnd my band 'bout that money\\nBreak it down\\n\\nGirls, hit your hallelujah (woo)\\nGirls, hit your hallelujah (woo)\\nGirls, hit your hallelujah (woo)\\n'Cause Uptown Funk gon' give it to you\\n'Cause Uptown Funk gon' give it to you\\n'Cause Uptown Funk gon' give it to you\\n\\nSaturday night and we in the spot\\nDon't believe me, just watch (come on)\\n\\nDoh\\nDo-do-doh, do-do-doh, do-do (ah)\\nDon't believe me, just watch\\nDoh\\nDo-do-doh, do-do-doh, do-do (ah)\\n\\nDon't believe me, just watch\\nDon't believe me, just watch\\nDon't believe me, just watch\\nDon't believe me, just watch\\nHey, hey, hey, oh\\n\\nStop\\nWait a minute\\nFill my cup, put some liquor in it\\nTake a sip, sign the check\\nJulio, get the stretch\\n\\nRide to Harlem, Hollywood\\nJackson, Mississippi\\nIf we show up, we gon' show out\\nSmoother than a fresh jar of Skippy\\n\\nI'm too hot (hot damn)\\nCall the police and the fireman\\nI'm too hot (hot damn)\\nMake a dragon wanna retire, man\\nI'm too hot (hot damn) (hot damn)\\nBitch, say my name, you know who I am\\nI'm too hot (hot damn)\\nAnd my band 'bout that money\\nBreak it down\\n\\nGirls, hit your hallelujah (woo)\\nGirls, hit your hallelujah (woo)\\nGirls, hit your hallelujah (woo)\\n'Cause Uptown Funk gon' give it to you\\n'Cause Uptown Funk gon' give it to you\\n'Cause Uptown Funk gon' give it to you\\n\\nSaturday night and we in the spot\\nDon't believe me, just watch (come on)\\n\\nDoh\\nDo-do-doh, do-do-doh, do-do (ah)\\nDon't believe me, just watch\\nDoh\\nDo-do-doh, do-do-doh, do-do (ah)\\n\\nDon't believe me, just watch\\nDon't believe me, just watch\\nDon't believe me, just watch\\nDon't believe me, just watch\\nHey, hey, hey, oh\\n\\nDoh\\nDo-do-doh, do-do-doh, do-do\\nBefore we leave\\nLemme tell y'all a lil' something\\n\\nUptown Funk you up\\nUptown Funk you up\\nUptown Funk you up\\nUptown Funk you up\\n\\nI said: Uptown Funk you up\\nUptown Funk you up\\nUptown Funk you up\\nUptown Funk you up\\n\\nCome on, dance, jump on it\\nIf you sexy then flaunt it\\nIf you freaky then own it\\nDon't brag about it, come show me\\nCome on\\n\\nDance, jump on it\\nIf you sexy then flaunt it\\nWell, it's Saturday night and we in the spot\\nDon't believe me, just watch (come on)\\n\\nDoh\\nDo-do-doh, do-do-doh, do-do (ah)\\nDon't believe me, just watch\\nDoh\\nDo-do-doh, do-do-doh, do-do (ah)\\n\\nDon't believe me, just watch\\nDon't believe me, just watch\\nDon't believe me, just watch\\nDon't believe me, just watch\\nHey, hey, hey, oh\\n\\nUptown Funk you up (wow, come on)\\nUptown Funk you up (say wha'?)\\nUptown Funk you up (hey)\\nUptown Funk you up (come on)\\n\\nUptown Funk you up (wow, come on)\\nUptown Funk you up (say wha'?)\\nUptown Funk you up (hey)\\nUptown Funk you up (come on)\\n\\nUptown Funk you up (wow, come on)\\nUptown Funk you up (say wha'?)\\nUptown Funk you up\\nUptown Funk you up (come on)\\n\\nUptown Funk you up\\nUptown Funk you up (say wha'?)\\nUptown Funk you up\\nAow!\",\n",
       " \"ArianaGrande ariana.grande@yahoo.com -23 890123456 https://arianagrande.com 7 Rings - 2:58 2019 Yeah, breakfast at Tiffany's and bottles of bubbles\\nGirls with tattoos who like getting in trouble\\nLashes and diamonds, ATM machines\\nBuy myself all of my favourite things, yeah\\nBeen through some bad shit, I should be a sad bitch\\nWho would have thought it'd turn me to a savage?\\nRather be tied up with calls and not strings\\nWrite my own checks like I write what I sing, yeah\\nMy wrist, stop watchin', my neck is flossy\\nMake big deposits, my gloss is poppin'\\nYou like my hair? Gee, thanks, just bought it\\nI see it, I like it, I want it, I got it, yeah\\nI want it, I got it, I want it, I got it\\nI want it, I got it, I want it, I got it\\nYou like my hair? Gee, thanks, just bought it\\nI see it, I like it, I want it, I got it (yep)\\nWearing a ring, but ain't gon' be no Mrs\\nBought matching diamonds for six of my bitches\\nI'd rather spoil all my friends with my riches\\nThink retail therapy my new addiction\\nWhoever said money can't solve your problems\\nMust not have had enough money to solve 'em\\nThey say, Which one?, I say, Nah, I want all of 'em\\nHappiness is the same price as red-bottoms\\nMy smile is beamin' (yeah), my skin is gleamin' (is gleamin')\\nThe way it shine, I know you've seen it (you've seen it)\\nI bought a crib just for (just for) the closet (closet)\\nBoth his and hers, I want it, I got it, yeah\\nI want it, I got it, I want it, I got it\\nI want it, I got it, I want it, I got it (baby)\\nYou like my hair? Gee, thanks, just bought it (oh yeah)\\nI see it, I like it, I want it, I got it (yep)\\nYeah, my receipts be lookin' like phone numbers\\nIf it ain't money, then wrong number\\nBlack card is my business card\\nThe way it be settin' the tone for me\\nI don't mean to brag, but I be like, Put it in the bag, yeah\\nWhen you see them racks, they stacked up like my ass, yeah\\nShoot, go from the store to the booth\\nMake it all back in one loop, give me the loot\\nNever mind, I got the juice\\nNothing but net when we shoot\\nLook at my neck, look at my jet\\nAin't got enough money to pay me respect\\nAin't no budget when I'm on the set\\nIf I like it, then that's what I get, yeah\\nI want it, I got it, I want it, I got it (yeah)\\nI want it, I got it, I want it, I got it (oh yeah, yeah)\\nYou like my hair? Gee, thanks, just bought it\\nI see it, I like it, I want it, I got it (yep)\",\n",
       " \"Shakira, shakira@hotmail.com -57 123456789, http://shakira.com Hips Don't Lie - 3:38 2006 Ladies up in here tonight\\nNo fighting\\nWe got the refugees up in here (no fighting)\\nNo fighting\\nShakira, Shakira\\nI never really knew that she could dance like this (hey)\\nShe make a man wants to speak Spanish\\n¿Cómo se llama? (Sí), bonita (sí)\\nMi casa, su casa (Shakira, Shakira)\\nOh, baby, when you talk like that\\nYou make a woman go mad\\nSo be wise (sí) and keep on (sí)\\nReading the signs of my body (uno, dos, tres, cuatro)\\nI'm on tonight\\nYou know my hips don't lie (no fighting)\\nAnd I'm starting to feel it's right\\nAll the attraction, the tension\\nDon't you see, baby, this is perfection?\\nHey, girl, I can see your body moving\\nAnd it's driving me crazy\\nAnd I didn't have the slightest idea\\nUntil I saw you dancing (yeah)\\nAnd when you walk up on the dance floor\\nNobody cannot ignore the way you move your body, girl (just move)\\nAnd everything so unexpected, the way you right and left it\\nSo you can keep on shaking it (let's go)\\nI never really knew that she could dance like this\\nShe make a man wants to speak Spanish\\n¿Cómo se llama? (Sí), bonita (sí)\\nMi casa, su casa (Shakira, Shakira)\\nOh, baby, when you talk like that\\nYou make a woman go mad\\nSo be wise (sí) and keep on (sí)\\nReading the signs of my body (no fighting)\\nI'm on tonight\\nYou know my hips don't lie (no fighting)\\nAnd I am starting to feel you, boy\\nCome on, let's go, real slow\\nDon't you see, baby, así es perfecto?\\nThey know I am on tonight, my hips don't lie\\nAnd I'm starting to feel it's right\\nAll the attraction, the tension\\nDon't you see, baby, this is perfection? (Shakira, Shakira)\\nOh, boy, I can see your body moving\\nHalf animal, half man\\nI don't, don't really know what I'm doing\\nBut you seem to have a plan\\nMy will and self-restraint\\nHave come to fail now, fail now\\nSee, I am doing what I can, but I can't so you know\\nThat's a bit too hard to explain (uno, dos, tres, cuatro)\\nBaila en la calle de noche (yeah)\\nBaila en la calle de día (let's go)\\nBaila en la calle de noche\\nBaila en la calle de día\\nI never really knew that she could dance like this\\nShe make a man wants to speak Spanish\\n¿Cómo se llama? (Sí), bonita (sí)\\nMi casa, su casa (Shakira, Shakira)\\nOh, baby, when you talk like that\\nYou know you got me hypnotized\\nSo be wise (sí) and keep on (sí)\\nReading the signs of my body\\nSeñorita, feel the conga\\nLet me see you move like you come from Colombia\\nYeah (ladies sí) (yeah yeah)\\n(Hey, yeah)\\n¡Mira en Barranquilla se baila así, say it! (yeah)\\nEn Barranquilla se baila así (yeah)\\nHey, brra!\\nYeah, she's so sexy, every man's fantasy\\nA refugee like me back with the Fugees from a third world country\\nI go back like when 'Pac carried crates for Humpty Humpty\\nWe leave the whole club dizzy\\nWhy the CIA wanna watch us?\\nColombians and Haitians\\nI ain't guilty, it's a musical transaction\\nBo bop so bop, no more do we snatch ropes\\nRefugees run the seas 'cause we own our own boats (no fighting)\\nI'm on tonight, my hips don't lie\\nAnd I'm starting to feel you, boy\\nCome on, let's go, real slow\\nBaby, like this is perfecto (no fighting)\\nOh, you know I'm on tonight, my hips don't lie\\nAnd I am starting to feel it's right\\nThe attraction, the tension\\nBaby, like this is perfection\\nNo fighting\\nNo fighting\",\n",
       " \"Coldplay info@coldplay.com -57 234567890 http://coldplay.com Yellow - 4:26 2000 Look at the stars\\nLook how they shine for you\\nAnd everything you do\\nYeah, they were all yellow\\nI came along\\nI wrote a song for you\\nAnd all the things you do\\nAnd it was called Yellow\\nSo then I took my turn\\nOh, what a thing to have done\\nAnd it was all yellow\\nYour skin, oh yeah, your skin and bones\\nTurn into something beautiful\\nAnd you know, you know I love you so\\nYou know I love you so\\nI swam across\\nI jumped across for you\\nOh, what a thing to do\\n'Cause you were all yellow\\nI drew a line\\nI drew a line for you\\nOh, what a thing to do\\nAnd it was all yellow\\nAnd your skin, oh yeah, your skin and bones\\nTurn into something beautiful\\nAnd you know, for you, I'd bleed myself dry\\nFor you, I'd bleed myself dry\\nIt's true\\nLook how they shine for you\\nLook how they shine for you\\nLook how they shine for\\nLook how they shine for you\\nLook how they shine for you\\nLook how they shine\\nLook at the stars\\nLook how they shine for you\\nAnd all the things that you do\",\n",
       " \"LadyGaga lady.gaga@gmail.com -34 345678901 https://ladygaga.com Bad Romance - 4:54 2009 Oh-oh-oh-oh-oh, oh-oh-oh-oh, oh-oh-oh\\nCaught in a bad romance\\nOh-oh-oh-oh-oh, oh-oh-oh-oh, oh-oh-oh\\nCaught in a bad romance\\nRah, rah-ah-ah-ah\\nRoma, roma-ma\\nGaga, ooh-la-la\\nWant your bad romance\\nRah, rah-ah-ah-ah\\nRoma, roma-ma\\nGaga, ooh-la-la\\nWant your bad romance\\nI want your ugly, I want your disease\\nI want your everything as long as it's free\\nI want your love\\nLove, love, love, I want your love (hey)\\nI want your drama, the touch of your hand (hey)\\nI want your leather-studded kiss in the sand\\nI want your love\\nLove, love, love, I want your love (love, love, love)\\n(I want your love)\\nYou know that I want you\\nAnd you know that I need you\\nI want it bad, your bad romance\\nI want your love, and I want your revenge\\nYou and me could write a bad romance (oh-oh-oh-oh-oh)\\nI want your love and all your lover's revenge\\nYou and me could write a bad romance\\nOh-oh-oh-oh-oh, oh-oh-oh-oh, oh-oh-oh\\nCaught in a bad romance\\nOh-oh-oh-oh-oh, oh-oh-oh-oh, oh-oh-oh\\nCaught in a bad romance\\nRah, rah-ah-ah-ah\\nRoma, roma-ma\\nGaga, ooh-la-la\\nWant your bad romance\\nI want your horror, I want your design\\n'Cause you're a criminal as long as you're mine\\nI want your love\\nLove, love, love, I want your love\\nI want your psycho, your vertigo shtick (hey)\\nWant you in my rear window, baby, you're sick\\nI want your love\\nLove, love, love, I want your love (love, love, love)\\n(I want your love)\\nYou know that I want you\\nAnd you know that I need you ('cause I'm a free bitch, baby)\\nI want it bad, your bad romance\\nI want your love, and I want your revenge\\nYou and me could write a bad romance (oh-oh-oh-oh-oh)\\nI want your love and all your lover's revenge\\nYou and me could write a bad romance\\nOh-oh-oh-oh-oh, oh-oh-oh-oh, oh-oh-oh\\nCaught in a bad romance\\nOh-oh-oh-oh-oh, oh-oh-oh-oh, oh-oh-oh\\nCaught in a bad romance\\nRah, rah-ah-ah-ah\\nRoma, roma-ma\\nGaga, ooh-la-la\\nWant your bad romance\\nRah, rah-ah-ah-ah\\nRoma, roma-ma\\nGaga, ooh-la-la\\nWant your bad romance\\nWalk, walk, fashion baby\\nWork it, move that bitch crazy\\nWalk, walk, fashion baby\\nWork it, move that bitch crazy\\nWalk, walk, fashion baby\\nWork it, move that bitch crazy\\nWalk, walk, passion baby\\nWork it, I'm a free bitch, baby\\nI want your love, and I want your revenge\\nI want your love, I don't wanna be friends\\nJ'veux ton amour, et je veux ta revanche\\nJ'veux ton amour, I don't wanna be friends (oh-oh-oh-oh-oh, oh-oh-oh-oh)\\nNo, I don't wanna be friends (oh-oh-oh, caught in a bad romance)\\nI don't wanna be friends (oh-oh-oh-oh-oh, oh-oh-oh-oh)\\nWant your bad romance (oh-oh-oh)\\nCaught in a bad romance\\nWant your bad romance\\nI want your love, and I want your revenge\\nYou and me could write a bad romance (oh-oh-oh-oh-oh)\\nI want your love and all your lover's revenge\\nYou and me could write a bad romance\\nOh-oh-oh-oh-oh, oh-oh-oh-oh, oh-oh-oh\\n(Want your bad romance)\\nCaught in a bad romance\\n(Want your bad romance)\\nOh-oh-oh-oh-oh, oh-oh-oh-oh, oh-oh-oh\\n(Want your bad romance)\\nCaught in a bad romance\\nRah, rah-ah-ah-ah\\nRoma, roma-ma\\nGaga, ooh-la-la\\nWant your bad romance\\n\"]"
      ]
     },
     "execution_count": 25,
     "metadata": {},
     "output_type": "execute_result"
    }
   ],
   "source": [
    "aux"
   ]
  },
  {
   "cell_type": "code",
   "execution_count": 26,
   "metadata": {},
   "outputs": [
    {
     "name": "stdout",
     "output_type": "stream",
     "text": [
      "[['\\nBobDylan', 'bob.dylan@gmail.com', \"EltonJohn elton.john@hotmail.com -34 345678901 http://eltonjohn.com Your Song - 4:01 1970 It's a little bit funny this feeling inside\\nI'm not one of those who can easily hide\\nI don't have much money, but, boy, if I did\\nI'd buy a big house where we both could live\\n\\nIf I was a sculptor, but then again, no\\nOr a man who makes potions in a travelling show\\nI know it's not much, but it's the best I can do\\nMy gift is my song and this one's for you\\n\\nAnd you can tell everybody this is your song\\nIt may be quite simple, but now that it's done\\nI hope you don't mind\\nI hope you don't mind that I put down in words\\nHow wonderful life is while you're in the world\\n\\nI sat on the roof and kicked off the moss\\nWell, a few of the verses, well, they've got me quite cross\\nBut the sun's been quite kind while I wrote this song\\nIt's for people like you that keep it turned on\\n\\nSo excuse me forgetting, but these things I do\\nYou see, I've forgotten if they're green or they're blue\\nAnyway the thing is what I really mean\\nYours are the sweetest eyes I've ever seen\\n\\nAnd you can tell everybody this is your song\\nIt may be quite simple, but now that it's done\\nI hope you don't mind\\nI hope you don't mind that I put down in words\\nHow wonderful life is while you're in the world\\n\\nI hope you don't mind\\nI hope you don't mind that I put down in words\\nHow wonderful life is while you're in the worldQueen info@queenonline.com -23 456789012 http://queenonline.com Bohemian Rhapsody - 5:55 1975 Is this the real life? Is this just fantasy?\\nCaught in a landslide, no escape from reality\\nOpen your eyes, look up to the skies and see\\nI'm just a poor boy, I need no sympathy\\nBecause I'm easy come, easy go\\nLittle high, little low\\nAny way the wind blows doesn't really matter to me, to me\\nMama, just killed a man\\nPut a gun against his head, pulled my trigger, now he's dead\\nMama, life had just begun\\nBut now I've gone and thrown it all away\\nMama, ooh, didn't mean to make you cry\\nIf I'm not back again this time tomorrow\\nCarry on, carry on as if nothing really matters\\nToo late, my time has come\\nSends shivers down my spine, body's aching all the time\\nGoodbye, everybody, I've got to go\\nGotta leave you all behind and face the truth\\nMama, ooh (any way the wind blows)\\nI don't wanna die\\nI sometimes wish I'd never been born at all\\nI see a little silhouetto of a man\\nScaramouche, Scaramouche, will you do the Fandango?\\nThunderbolt and lightning, very, very frightening me\\n(Galileo) Galileo, (Galileo) Galileo, Galileo Figaro, magnifico\\nBut I'm just a poor boy, nobody loves me\\nHe's just a poor boy from a poor family\\nSpare him his life from this monstrosity\\nEasy come, easy go, will you let me go?\\nبِسْمِ ٱللَّٰهِ\\nNo, we will not let you go (let him go)\\nبِسْمِ ٱللَّٰهِ\\nWe will not let you go (let him go)\\nبِسْمِ ٱللَّٰهِ\\nWe will not let you go (let me go)\\nWill not let you go (let me go)\\nWill not let you go (never, never, never, never let me go)\\nNo, no, no, no, no, no, no\\nOh, mamma mia, mamma mia\\nMamma mia, let me go\\nBeelzebub has a devil put aside for me, for me, for me\\nSo you think you can stone me and spit in my eye?\\nSo you think you can love me and leave me to die?\\nOh, baby, can't do this to me, baby\\nJust gotta get out, just gotta get right outta here\\nOoh\\nOoh, yeah, ooh, yeah\\nNothing really matters, anyone can see\\nNothing really matters\\nNothing really matters to me\", 'http://bobdylan.com'], ['TheBeatles', 'contact@thebeatles.co.uk', '-1123456789', 'http://thebeatles.co.uk'], ['EltonJohn', 'elton.john@hotmail.com', '-44234567890', 'http://eltonjohn.com'], ['Queen', 'info@queenonline.com', '-34345678901', 'http://queenonline.com'], ['MichaelJackson', 'michael.jackson@yahoo.com', '-23456789012', 'http://michaeljackson.com'], ['Madonna', 'madonna@madonna.com', '-1567890123', 'http://madonna.com'], ['DavidBowie', 'david.bowie@outlook.com', '-11678901234', 'http://davidbowie.com'], ['Nirvana', 'contact@nirvana.com', '-44789012345', 'http://nirvana.com'], ['Adele', 'adele@adele.com', '-2890123456', 'http://adele.com'], ['EdSheeran', 'ed.sheeran@gmail.com', '-44901234567', 'http://edsheeran.com'], ['Beyoncé', 'beyonce@beyonce.com', '-44123456789', 'http://beyonce.com'], ['TaylorSwift', 'taylor.swift@yahoo.com', '-1234567890', 'http://taylorswift.com'], ['Rihanna', 'rihanna@hotmail.com', '-34345678901', 'http://rihanna.com'], ['Drake,', 'drake@drake.com', '-1456789012', 'http://drake.com'], ['KanyeWest', 'kanye.west@gmail.com', '-54567890123,', 'http://kanyewest.com'], ['BrunoMars', 'bruno.mars@outlook.com', '-13678901234', 'https://brunomars.com'], ['ArianaGrande', 'ariana.grande@yahoo.com', '-1789012345', 'https://arianagrande.com'], ['Shakira,', 'shakira@hotmail.com', '-23890123456', 'http://shakira.com'], ['Coldplay', 'info@coldplay.com', '-57123456789,', 'http://coldplay.com'], ['LadyGaga', 'lady.gaga@gmail.com', '-57234567890', 'https://ladygaga.com']]\n"
     ]
    }
   ],
   "source": [
    "artistas = []\n",
    "### dividimos por los espacios, luego tomamos los valores iterando por los lugares de la lista\n",
    "for i in aux:\n",
    "    telefono = aux[2] + aux[3]\n",
    "    aux = i.split(' ')\n",
    "    artistas.append([aux[0], aux[1], telefono, aux[4]])\n",
    "\n",
    "print(artistas)"
   ]
  },
  {
   "cell_type": "code",
   "execution_count": 27,
   "metadata": {},
   "outputs": [
    {
     "data": {
      "text/plain": [
       "[['\\nBobDylan',\n",
       "  'bob.dylan@gmail.com',\n",
       "  \"EltonJohn elton.john@hotmail.com -34 345678901 http://eltonjohn.com Your Song - 4:01 1970 It's a little bit funny this feeling inside\\nI'm not one of those who can easily hide\\nI don't have much money, but, boy, if I did\\nI'd buy a big house where we both could live\\n\\nIf I was a sculptor, but then again, no\\nOr a man who makes potions in a travelling show\\nI know it's not much, but it's the best I can do\\nMy gift is my song and this one's for you\\n\\nAnd you can tell everybody this is your song\\nIt may be quite simple, but now that it's done\\nI hope you don't mind\\nI hope you don't mind that I put down in words\\nHow wonderful life is while you're in the world\\n\\nI sat on the roof and kicked off the moss\\nWell, a few of the verses, well, they've got me quite cross\\nBut the sun's been quite kind while I wrote this song\\nIt's for people like you that keep it turned on\\n\\nSo excuse me forgetting, but these things I do\\nYou see, I've forgotten if they're green or they're blue\\nAnyway the thing is what I really mean\\nYours are the sweetest eyes I've ever seen\\n\\nAnd you can tell everybody this is your song\\nIt may be quite simple, but now that it's done\\nI hope you don't mind\\nI hope you don't mind that I put down in words\\nHow wonderful life is while you're in the world\\n\\nI hope you don't mind\\nI hope you don't mind that I put down in words\\nHow wonderful life is while you're in the worldQueen info@queenonline.com -23 456789012 http://queenonline.com Bohemian Rhapsody - 5:55 1975 Is this the real life? Is this just fantasy?\\nCaught in a landslide, no escape from reality\\nOpen your eyes, look up to the skies and see\\nI'm just a poor boy, I need no sympathy\\nBecause I'm easy come, easy go\\nLittle high, little low\\nAny way the wind blows doesn't really matter to me, to me\\nMama, just killed a man\\nPut a gun against his head, pulled my trigger, now he's dead\\nMama, life had just begun\\nBut now I've gone and thrown it all away\\nMama, ooh, didn't mean to make you cry\\nIf I'm not back again this time tomorrow\\nCarry on, carry on as if nothing really matters\\nToo late, my time has come\\nSends shivers down my spine, body's aching all the time\\nGoodbye, everybody, I've got to go\\nGotta leave you all behind and face the truth\\nMama, ooh (any way the wind blows)\\nI don't wanna die\\nI sometimes wish I'd never been born at all\\nI see a little silhouetto of a man\\nScaramouche, Scaramouche, will you do the Fandango?\\nThunderbolt and lightning, very, very frightening me\\n(Galileo) Galileo, (Galileo) Galileo, Galileo Figaro, magnifico\\nBut I'm just a poor boy, nobody loves me\\nHe's just a poor boy from a poor family\\nSpare him his life from this monstrosity\\nEasy come, easy go, will you let me go?\\nبِسْمِ ٱللَّٰهِ\\nNo, we will not let you go (let him go)\\nبِسْمِ ٱللَّٰهِ\\nWe will not let you go (let him go)\\nبِسْمِ ٱللَّٰهِ\\nWe will not let you go (let me go)\\nWill not let you go (let me go)\\nWill not let you go (never, never, never, never let me go)\\nNo, no, no, no, no, no, no\\nOh, mamma mia, mamma mia\\nMamma mia, let me go\\nBeelzebub has a devil put aside for me, for me, for me\\nSo you think you can stone me and spit in my eye?\\nSo you think you can love me and leave me to die?\\nOh, baby, can't do this to me, baby\\nJust gotta get out, just gotta get right outta here\\nOoh\\nOoh, yeah, ooh, yeah\\nNothing really matters, anyone can see\\nNothing really matters\\nNothing really matters to me\",\n",
       "  'http://bobdylan.com'],\n",
       " ['TheBeatles',\n",
       "  'contact@thebeatles.co.uk',\n",
       "  '-1123456789',\n",
       "  'http://thebeatles.co.uk'],\n",
       " ['EltonJohn',\n",
       "  'elton.john@hotmail.com',\n",
       "  '-44234567890',\n",
       "  'http://eltonjohn.com'],\n",
       " ['Queen', 'info@queenonline.com', '-34345678901', 'http://queenonline.com'],\n",
       " ['MichaelJackson',\n",
       "  'michael.jackson@yahoo.com',\n",
       "  '-23456789012',\n",
       "  'http://michaeljackson.com'],\n",
       " ['Madonna', 'madonna@madonna.com', '-1567890123', 'http://madonna.com'],\n",
       " ['DavidBowie',\n",
       "  'david.bowie@outlook.com',\n",
       "  '-11678901234',\n",
       "  'http://davidbowie.com'],\n",
       " ['Nirvana', 'contact@nirvana.com', '-44789012345', 'http://nirvana.com'],\n",
       " ['Adele', 'adele@adele.com', '-2890123456', 'http://adele.com'],\n",
       " ['EdSheeran', 'ed.sheeran@gmail.com', '-44901234567', 'http://edsheeran.com'],\n",
       " ['Beyoncé', 'beyonce@beyonce.com', '-44123456789', 'http://beyonce.com'],\n",
       " ['TaylorSwift',\n",
       "  'taylor.swift@yahoo.com',\n",
       "  '-1234567890',\n",
       "  'http://taylorswift.com'],\n",
       " ['Rihanna', 'rihanna@hotmail.com', '-34345678901', 'http://rihanna.com'],\n",
       " ['Drake,', 'drake@drake.com', '-1456789012', 'http://drake.com'],\n",
       " ['KanyeWest',\n",
       "  'kanye.west@gmail.com',\n",
       "  '-54567890123,',\n",
       "  'http://kanyewest.com'],\n",
       " ['BrunoMars',\n",
       "  'bruno.mars@outlook.com',\n",
       "  '-13678901234',\n",
       "  'https://brunomars.com'],\n",
       " ['ArianaGrande',\n",
       "  'ariana.grande@yahoo.com',\n",
       "  '-1789012345',\n",
       "  'https://arianagrande.com'],\n",
       " ['Shakira,', 'shakira@hotmail.com', '-23890123456', 'http://shakira.com'],\n",
       " ['Coldplay', 'info@coldplay.com', '-57123456789,', 'http://coldplay.com'],\n",
       " ['LadyGaga', 'lady.gaga@gmail.com', '-57234567890', 'https://ladygaga.com']]"
      ]
     },
     "execution_count": 27,
     "metadata": {},
     "output_type": "execute_result"
    }
   ],
   "source": [
    "artistas"
   ]
  },
  {
   "cell_type": "markdown",
   "metadata": {},
   "source": [
    "#### 1.2 La información de cada canción(título, duración y fecha de lanzamiento)."
   ]
  },
  {
   "cell_type": "code",
   "execution_count": 28,
   "metadata": {},
   "outputs": [
    {
     "data": {
      "text/plain": [
       "['Like a Rolling Stone',\n",
       " 'Hey Jude',\n",
       " 'Your Song',\n",
       " 'Bohemian Rhapsody',\n",
       " 'Billie Jean',\n",
       " 'Like a Prayer',\n",
       " 'Space Oddity',\n",
       " 'Smells Like Teen Spirit',\n",
       " 'Someone Like You',\n",
       " 'Shape of You',\n",
       " 'Halo',\n",
       " 'Blank Space',\n",
       " 'Diamonds',\n",
       " 'Hotline Bling',\n",
       " 'Stronger',\n",
       " 'Uptown Funk',\n",
       " '7 Rings',\n",
       " \"Hips Don't Lie\",\n",
       " 'Yellow',\n",
       " 'Bad Romance']"
      ]
     },
     "execution_count": 28,
     "metadata": {},
     "output_type": "execute_result"
    }
   ],
   "source": [
    "canciones = contenido.split(\"http\")[1:]\n",
    "canciones\n",
    "### dividimos por el http, a partir del primer elemento\n",
    "titulos_sucio =[]\n",
    "for elem in canciones:\n",
    "    patron = r'\\.com|\\.net|\\.uk|\\.es|\\.us'\n",
    "    resultado = re.split(patron, elem)\n",
    "    titulos_sucio.append(resultado[1])\n",
    "    \n",
    "titulos = []\n",
    "for name in titulos_sucio:\n",
    "    titulos.append((name.split('-')[0]).strip())\n",
    "titulos"
   ]
  },
  {
   "cell_type": "code",
   "execution_count": 29,
   "metadata": {},
   "outputs": [
    {
     "data": {
      "text/plain": [
       "[[' 6:13 1965'],\n",
       " [' 7:11 1968'],\n",
       " [' 4:01 1970'],\n",
       " [' 5:55 1975'],\n",
       " [' 4:54 1982'],\n",
       " [' 5:43 1989'],\n",
       " [' 5:18 1969'],\n",
       " [' 5:01 1991'],\n",
       " [' 4:45 2011'],\n",
       " [' 3:53 2017'],\n",
       " [' 4:21 2008'],\n",
       " [' 3:52 2014'],\n",
       " [' 3:45,2012'],\n",
       " [' 4:27 2015'],\n",
       " [' 5:12 2007'],\n",
       " [' 4:30 2014'],\n",
       " [' 2:58 2019'],\n",
       " [' 3:38 2006'],\n",
       " [' 4:26 2000'],\n",
       " [' 4:54 2009']]"
      ]
     },
     "execution_count": 29,
     "metadata": {},
     "output_type": "execute_result"
    }
   ],
   "source": [
    "duracion_ano = []\n",
    "### tomamos los elementos de nuestra lista sucia, para dividir siguiendo nuestro patrón\n",
    "for elem in titulos_sucio:\n",
    "    patron_minutos_ano = r\"\\s\\d{1,2}:\\d{2},?\\s?\\d{4}\"\n",
    "    res = re.findall(patron_minutos_ano,elem)\n",
    "    duracion_ano.append(res)\n",
    "\n",
    "duracion_ano"
   ]
  },
  {
   "cell_type": "code",
   "execution_count": 30,
   "metadata": {},
   "outputs": [
    {
     "data": {
      "text/plain": [
       "['Like a Rolling Stone 6:13 1965',\n",
       " 'Hey Jude 7:11 1968',\n",
       " 'Your Song 4:01 1970',\n",
       " 'Bohemian Rhapsody 5:55 1975',\n",
       " 'Billie Jean 4:54 1982',\n",
       " 'Like a Prayer 5:43 1989',\n",
       " 'Space Oddity 5:18 1969',\n",
       " 'Smells Like Teen Spirit 5:01 1991',\n",
       " 'Someone Like You 4:45 2011',\n",
       " 'Shape of You 3:53 2017',\n",
       " 'Halo 4:21 2008',\n",
       " 'Blank Space 3:52 2014',\n",
       " 'Diamonds 3:45,2012',\n",
       " 'Hotline Bling 4:27 2015',\n",
       " 'Stronger 5:12 2007',\n",
       " 'Uptown Funk 4:30 2014',\n",
       " '7 Rings 2:58 2019',\n",
       " \"Hips Don't Lie 3:38 2006\",\n",
       " 'Yellow 4:26 2000',\n",
       " 'Bad Romance 4:54 2009']"
      ]
     },
     "execution_count": 30,
     "metadata": {},
     "output_type": "execute_result"
    }
   ],
   "source": [
    "lista_final = []\n",
    "### tomamos los titulos[i] para poder sacarlos a todos de su lista, junto a la duracion iterable con elemento [0]\n",
    "for i in range(len(titulos)):\n",
    "    lista_final.append(titulos[i] + duracion_ano[i][0])\n",
    "\n",
    "lista_final"
   ]
  },
  {
   "cell_type": "markdown",
   "metadata": {},
   "source": [
    "#### 1.3 Almacena la información en una lista de diccionarios donde cada diccionario contenga los datos de un artista y su canción asociada."
   ]
  },
  {
   "cell_type": "code",
   "execution_count": 31,
   "metadata": {},
   "outputs": [
    {
     "data": {
      "text/plain": [
       "[{'artista': '\\nBobDylan',\n",
       "  'correo': 'bob.dylan@gmail.com',\n",
       "  'teléfono': \"EltonJohn elton.john@hotmail.com -34 345678901 http://eltonjohn.com Your Song - 4:01 1970 It's a little bit funny this feeling inside\\nI'm not one of those who can easily hide\\nI don't have much money, but, boy, if I did\\nI'd buy a big house where we both could live\\n\\nIf I was a sculptor, but then again, no\\nOr a man who makes potions in a travelling show\\nI know it's not much, but it's the best I can do\\nMy gift is my song and this one's for you\\n\\nAnd you can tell everybody this is your song\\nIt may be quite simple, but now that it's done\\nI hope you don't mind\\nI hope you don't mind that I put down in words\\nHow wonderful life is while you're in the world\\n\\nI sat on the roof and kicked off the moss\\nWell, a few of the verses, well, they've got me quite cross\\nBut the sun's been quite kind while I wrote this song\\nIt's for people like you that keep it turned on\\n\\nSo excuse me forgetting, but these things I do\\nYou see, I've forgotten if they're green or they're blue\\nAnyway the thing is what I really mean\\nYours are the sweetest eyes I've ever seen\\n\\nAnd you can tell everybody this is your song\\nIt may be quite simple, but now that it's done\\nI hope you don't mind\\nI hope you don't mind that I put down in words\\nHow wonderful life is while you're in the world\\n\\nI hope you don't mind\\nI hope you don't mind that I put down in words\\nHow wonderful life is while you're in the worldQueen info@queenonline.com -23 456789012 http://queenonline.com Bohemian Rhapsody - 5:55 1975 Is this the real life? Is this just fantasy?\\nCaught in a landslide, no escape from reality\\nOpen your eyes, look up to the skies and see\\nI'm just a poor boy, I need no sympathy\\nBecause I'm easy come, easy go\\nLittle high, little low\\nAny way the wind blows doesn't really matter to me, to me\\nMama, just killed a man\\nPut a gun against his head, pulled my trigger, now he's dead\\nMama, life had just begun\\nBut now I've gone and thrown it all away\\nMama, ooh, didn't mean to make you cry\\nIf I'm not back again this time tomorrow\\nCarry on, carry on as if nothing really matters\\nToo late, my time has come\\nSends shivers down my spine, body's aching all the time\\nGoodbye, everybody, I've got to go\\nGotta leave you all behind and face the truth\\nMama, ooh (any way the wind blows)\\nI don't wanna die\\nI sometimes wish I'd never been born at all\\nI see a little silhouetto of a man\\nScaramouche, Scaramouche, will you do the Fandango?\\nThunderbolt and lightning, very, very frightening me\\n(Galileo) Galileo, (Galileo) Galileo, Galileo Figaro, magnifico\\nBut I'm just a poor boy, nobody loves me\\nHe's just a poor boy from a poor family\\nSpare him his life from this monstrosity\\nEasy come, easy go, will you let me go?\\nبِسْمِ ٱللَّٰهِ\\nNo, we will not let you go (let him go)\\nبِسْمِ ٱللَّٰهِ\\nWe will not let you go (let him go)\\nبِسْمِ ٱللَّٰهِ\\nWe will not let you go (let me go)\\nWill not let you go (let me go)\\nWill not let you go (never, never, never, never let me go)\\nNo, no, no, no, no, no, no\\nOh, mamma mia, mamma mia\\nMamma mia, let me go\\nBeelzebub has a devil put aside for me, for me, for me\\nSo you think you can stone me and spit in my eye?\\nSo you think you can love me and leave me to die?\\nOh, baby, can't do this to me, baby\\nJust gotta get out, just gotta get right outta here\\nOoh\\nOoh, yeah, ooh, yeah\\nNothing really matters, anyone can see\\nNothing really matters\\nNothing really matters to me\",\n",
       "  'web': 'http://bobdylan.com',\n",
       "  'cancion': 'Like a Rolling Stone'},\n",
       " {'artista': 'TheBeatles',\n",
       "  'correo': 'contact@thebeatles.co.uk',\n",
       "  'teléfono': '-1123456789',\n",
       "  'web': 'http://thebeatles.co.uk',\n",
       "  'cancion': 'Hey Jude'},\n",
       " {'artista': 'EltonJohn',\n",
       "  'correo': 'elton.john@hotmail.com',\n",
       "  'teléfono': '-44234567890',\n",
       "  'web': 'http://eltonjohn.com',\n",
       "  'cancion': 'Your Song'},\n",
       " {'artista': 'Queen',\n",
       "  'correo': 'info@queenonline.com',\n",
       "  'teléfono': '-34345678901',\n",
       "  'web': 'http://queenonline.com',\n",
       "  'cancion': 'Bohemian Rhapsody'},\n",
       " {'artista': 'MichaelJackson',\n",
       "  'correo': 'michael.jackson@yahoo.com',\n",
       "  'teléfono': '-23456789012',\n",
       "  'web': 'http://michaeljackson.com',\n",
       "  'cancion': 'Billie Jean'},\n",
       " {'artista': 'Madonna',\n",
       "  'correo': 'madonna@madonna.com',\n",
       "  'teléfono': '-1567890123',\n",
       "  'web': 'http://madonna.com',\n",
       "  'cancion': 'Like a Prayer'},\n",
       " {'artista': 'DavidBowie',\n",
       "  'correo': 'david.bowie@outlook.com',\n",
       "  'teléfono': '-11678901234',\n",
       "  'web': 'http://davidbowie.com',\n",
       "  'cancion': 'Space Oddity'},\n",
       " {'artista': 'Nirvana',\n",
       "  'correo': 'contact@nirvana.com',\n",
       "  'teléfono': '-44789012345',\n",
       "  'web': 'http://nirvana.com',\n",
       "  'cancion': 'Smells Like Teen Spirit'},\n",
       " {'artista': 'Adele',\n",
       "  'correo': 'adele@adele.com',\n",
       "  'teléfono': '-2890123456',\n",
       "  'web': 'http://adele.com',\n",
       "  'cancion': 'Someone Like You'},\n",
       " {'artista': 'EdSheeran',\n",
       "  'correo': 'ed.sheeran@gmail.com',\n",
       "  'teléfono': '-44901234567',\n",
       "  'web': 'http://edsheeran.com',\n",
       "  'cancion': 'Shape of You'},\n",
       " {'artista': 'Beyoncé',\n",
       "  'correo': 'beyonce@beyonce.com',\n",
       "  'teléfono': '-44123456789',\n",
       "  'web': 'http://beyonce.com',\n",
       "  'cancion': 'Halo'},\n",
       " {'artista': 'TaylorSwift',\n",
       "  'correo': 'taylor.swift@yahoo.com',\n",
       "  'teléfono': '-1234567890',\n",
       "  'web': 'http://taylorswift.com',\n",
       "  'cancion': 'Blank Space'},\n",
       " {'artista': 'Rihanna',\n",
       "  'correo': 'rihanna@hotmail.com',\n",
       "  'teléfono': '-34345678901',\n",
       "  'web': 'http://rihanna.com',\n",
       "  'cancion': 'Diamonds'},\n",
       " {'artista': 'Drake,',\n",
       "  'correo': 'drake@drake.com',\n",
       "  'teléfono': '-1456789012',\n",
       "  'web': 'http://drake.com',\n",
       "  'cancion': 'Hotline Bling'},\n",
       " {'artista': 'KanyeWest',\n",
       "  'correo': 'kanye.west@gmail.com',\n",
       "  'teléfono': '-54567890123,',\n",
       "  'web': 'http://kanyewest.com',\n",
       "  'cancion': 'Stronger'},\n",
       " {'artista': 'BrunoMars',\n",
       "  'correo': 'bruno.mars@outlook.com',\n",
       "  'teléfono': '-13678901234',\n",
       "  'web': 'https://brunomars.com',\n",
       "  'cancion': 'Uptown Funk'},\n",
       " {'artista': 'ArianaGrande',\n",
       "  'correo': 'ariana.grande@yahoo.com',\n",
       "  'teléfono': '-1789012345',\n",
       "  'web': 'https://arianagrande.com',\n",
       "  'cancion': '7 Rings'},\n",
       " {'artista': 'Shakira,',\n",
       "  'correo': 'shakira@hotmail.com',\n",
       "  'teléfono': '-23890123456',\n",
       "  'web': 'http://shakira.com',\n",
       "  'cancion': \"Hips Don't Lie\"},\n",
       " {'artista': 'Coldplay',\n",
       "  'correo': 'info@coldplay.com',\n",
       "  'teléfono': '-57123456789,',\n",
       "  'web': 'http://coldplay.com',\n",
       "  'cancion': 'Yellow'},\n",
       " {'artista': 'LadyGaga',\n",
       "  'correo': 'lady.gaga@gmail.com',\n",
       "  'teléfono': '-57234567890',\n",
       "  'web': 'https://ladygaga.com',\n",
       "  'cancion': 'Bad Romance'}]"
      ]
     },
     "execution_count": 31,
     "metadata": {},
     "output_type": "execute_result"
    }
   ],
   "source": [
    "# Lista vacía para appendear\n",
    "lista_artistas = []\n",
    "\n",
    "### iteramos sobre cada de lista de la lista, con su elemento del 0 al 3\n",
    "### además tomamos su canción de la lista título[i] porque va formada por listas de cada nombre\n",
    "for i in range(len(artistas)):\n",
    "    dic = {\n",
    "        'artista': artistas[i][0],\n",
    "        'correo': artistas[i][1],\n",
    "        'teléfono': artistas[i][2],\n",
    "        'web': artistas[i][3],\n",
    "        'cancion': titulos[i]\n",
    "    }\n",
    "    lista_artistas.append(dic)\n",
    "\n",
    "lista_artistas"
   ]
  },
  {
   "cell_type": "markdown",
   "metadata": {},
   "source": [
    "### Ejercicio 2: Análisis de datos\n",
    "Usa las **expresiones regulares** para extraer la siguiente información:"
   ]
  },
  {
   "cell_type": "markdown",
   "metadata": {},
   "source": [
    "#### 2.1 Busca la palabra más repetida en el texto completo.\n"
   ]
  },
  {
   "cell_type": "code",
   "execution_count": 32,
   "metadata": {},
   "outputs": [
    {
     "data": {
      "text/plain": [
       "[('i', 496), ('you', 390), ('a', 225), ('it', 214), ('oh', 214)]"
      ]
     },
     "execution_count": 32,
     "metadata": {},
     "output_type": "execute_result"
    }
   ],
   "source": [
    "words = re.findall(r'\\b\\w+\\b', contenido.lower())\n",
    "\n",
    "### Conteo de palabras\n",
    "word_count = Counter(words)\n",
    "\n",
    "### palabras que aparecen más de una vez\n",
    "repeats = []\n",
    "for word, count in word_count.items():\n",
    "    if count > 1:\n",
    "        repeats.append(word)\n",
    "\n",
    "### palabras repetidas y sus frecuencias\n",
    "word_repeats_count = {}\n",
    "for word in repeats:\n",
    "    word_repeats_count[word] = word_count[word]\n",
    "\n",
    "### ordenar el diccionario por la cantidad de repeticiones, de mayor a menor\n",
    "sorted_word_count = sorted(word_repeats_count.items(), key=lambda item: item[1], reverse=True)\n",
    "sorted_word_count[:5]"
   ]
  },
  {
   "cell_type": "markdown",
   "metadata": {},
   "source": [
    "#### 2.2 Busca la palabra que más repetida en cada canción.\n"
   ]
  },
  {
   "cell_type": "code",
   "execution_count": 33,
   "metadata": {},
   "outputs": [
    {
     "name": "stdout",
     "output_type": "stream",
     "text": [
      "La palabra más repetida es \"you\" en la canción Like a Rolling Stone\n",
      "La palabra más repetida es \"you\" en la canción Hey Jude\n",
      "La palabra más repetida es \"i\" en la canción Your Song\n",
      "La palabra más repetida es \"me\" en la canción Bohemian Rhapsody\n",
      "La palabra más repetida es \"the\" en la canción Billie Jean\n",
      "La palabra más repetida es \"a\" en la canción Like a Prayer\n",
      "La palabra más repetida es \"i\" en la canción Space Oddity\n",
      "La palabra más repetida es \"hello\" en la canción Smells Like Teen Spirit\n",
      "La palabra más repetida es \"i\" en la canción Someone Like You\n",
      "La palabra más repetida es \"i\" en la canción Shape of You\n",
      "La palabra más repetida es \"halo\" en la canción Halo\n",
      "La palabra más repetida es \"you\" en la canción Blank Space\n",
      "La palabra más repetida es \"like\" en la canción Diamonds\n",
      "La palabra más repetida es \"you\" en la canción Hotline Bling\n",
      "La palabra más repetida es \"i\" en la canción Stronger\n",
      "La palabra más repetida es \"do\" en la canción Uptown Funk\n",
      "La palabra más repetida es \"i\" en la canción 7 Rings\n",
      "La palabra más repetida es \"i\" en la canción Hips Don't Lie\n",
      "La palabra más repetida es \"you\" en la canción Yellow\n",
      "La palabra más repetida es \"oh\" en la canción Bad Romance\n"
     ]
    }
   ],
   "source": [
    "canciones_dirt = contenido.split('./')\n",
    "\n",
    "canciones = []\n",
    "\n",
    "for elem in canciones_dirt:\n",
    "    patron = r\"\\s\\d{1,2}:\\d{2},?\\s?\\d{4}\"\n",
    "    resultado = re.split(patron, elem)[1]\n",
    "    canciones.append(resultado)\n",
    "\n",
    "canciones\n",
    "i = 0\n",
    "\n",
    "for cancion in canciones:\n",
    "    words = re.findall(r\"\\b\\w+\\b\", cancion.lower())\n",
    "    word_counts = Counter(words)\n",
    "    repetida = dict(sorted(word_counts.items(), key=lambda item: item[1], reverse= True))\n",
    "    print(f'La palabra más repetida es \"{list(repetida.keys())[0]}\" en la canción {titulos[i]}')\n",
    "    i += 1"
   ]
  },
  {
   "cell_type": "markdown",
   "metadata": {},
   "source": [
    "#### 2.3 Busca el nombre de la canción que más dura.\n"
   ]
  },
  {
   "cell_type": "code",
   "execution_count": 34,
   "metadata": {},
   "outputs": [
    {
     "name": "stdout",
     "output_type": "stream",
     "text": [
      "La canción más larga es: Hey Jude con una duración de 7:11\n"
     ]
    }
   ],
   "source": [
    "duracion_ano \n",
    "\n",
    "duraciones = {}\n",
    "i=0\n",
    "for tiempo in duracion_ano:\n",
    "    patron_duracion = r\"\\d{1}:\\d{2}\" ### buscamos las duraciones, minutos y segundos\n",
    "    can_tiempo = re.findall(patron_duracion,tiempo[0]) ### pasamos el patron \n",
    "    duraciones[titulos[i]] = can_tiempo[0]\n",
    "    i +=1\n",
    "\n",
    "mas_larga = dict(sorted(duraciones.items(), key=lambda item:item[1], reverse= True)) ### hace el diccionario, ordena el diccionario en base a sus items pero estos se orden en relacion al item 1 (valor) en orden descendente\n",
    "\n",
    "print(f'La canción más larga es: {list(mas_larga.keys())[0]} con una duración de {list(mas_larga.values())[0]}') ### toma la key del primer valor del diccionario y la junta con su clave"
   ]
  },
  {
   "cell_type": "markdown",
   "metadata": {},
   "source": [
    "#### 2.4 Busca el nombre de la canción que menos dura."
   ]
  },
  {
   "cell_type": "code",
   "execution_count": 35,
   "metadata": {},
   "outputs": [
    {
     "name": "stdout",
     "output_type": "stream",
     "text": [
      "La canción más corta es: 7 Rings con una duración de 2:58\n"
     ]
    }
   ],
   "source": [
    "print(f'La canción más corta es: {list(mas_larga.keys())[-1]} con una duración de {list(mas_larga.values())[-1]}') ### muy similar a la anterior, solo que aquí tomamos desde el final hasta el inicio. Como estaba en orden descendente, puede tomar la de menor duración"
   ]
  },
  {
   "cell_type": "markdown",
   "metadata": {},
   "source": [
    "#### 2.5 Busca el nombre y la fecha de lanzamiento de la canción más actual."
   ]
  },
  {
   "cell_type": "code",
   "execution_count": 36,
   "metadata": {},
   "outputs": [
    {
     "name": "stdout",
     "output_type": "stream",
     "text": [
      "La canción más reciente es \"7 Rings\" lanzada en el año 2019\n"
     ]
    }
   ],
   "source": [
    "lanzamiento = {}\n",
    "i=0\n",
    "for fecha in duracion_ano:\n",
    "    patron_duracion = r\"\\d{4}\"\n",
    "    reciente = re.findall(patron_duracion,fecha[0])\n",
    "    lanzamiento[titulos[i]] = reciente[0]\n",
    "    i+=1\n",
    "\n",
    "cancion_lanzamiento = dict(sorted(lanzamiento.items(), key=lambda item:item[1], reverse= True))\n",
    "\n",
    "print(f'La canción más reciente es \"{list(cancion_lanzamiento.keys())[0]}\" lanzada en el año {list(cancion_lanzamiento.values())[0]}')"
   ]
  },
  {
   "cell_type": "markdown",
   "metadata": {},
   "source": [
    "#### 2.6 Calcula la cantidad de países a partir de los números de contacto."
   ]
  },
  {
   "cell_type": "code",
   "execution_count": 37,
   "metadata": {},
   "outputs": [
    {
     "name": "stdout",
     "output_type": "stream",
     "text": [
      "Hay 9 paises distintos.\n"
     ]
    }
   ],
   "source": [
    "canciones_dirt1 = contenido.split('./')\n",
    "\n",
    "prefijos=[]\n",
    "for elem in canciones_dirt:\n",
    "    canciones_dirt1 = elem.split()\n",
    "    prefijos.append(canciones_dirt1[2])\n",
    "\n",
    "num_paises = len(set(prefijos))\n",
    "print(f'Hay {num_paises} paises distintos.')"
   ]
  },
  {
   "cell_type": "markdown",
   "metadata": {},
   "source": [
    "#### 2.7 Agrupa las canciones por década."
   ]
  },
  {
   "cell_type": "code",
   "execution_count": 38,
   "metadata": {},
   "outputs": [
    {
     "data": {
      "text/plain": [
       "{'7 Rings': '2019',\n",
       " 'Shape of You': '2017',\n",
       " 'Hotline Bling': '2015',\n",
       " 'Blank Space': '2014',\n",
       " 'Uptown Funk': '2014',\n",
       " 'Diamonds': '2012',\n",
       " 'Someone Like You': '2011',\n",
       " 'Bad Romance': '2009',\n",
       " 'Halo': '2008',\n",
       " 'Stronger': '2007',\n",
       " \"Hips Don't Lie\": '2006',\n",
       " 'Yellow': '2000',\n",
       " 'Smells Like Teen Spirit': '1991',\n",
       " 'Like a Prayer': '1989',\n",
       " 'Billie Jean': '1982',\n",
       " 'Bohemian Rhapsody': '1975',\n",
       " 'Your Song': '1970',\n",
       " 'Space Oddity': '1969',\n",
       " 'Hey Jude': '1968',\n",
       " 'Like a Rolling Stone': '1965'}"
      ]
     },
     "execution_count": 38,
     "metadata": {},
     "output_type": "execute_result"
    }
   ],
   "source": [
    "cancion_lanzamiento"
   ]
  },
  {
   "cell_type": "code",
   "execution_count": 39,
   "metadata": {},
   "outputs": [
    {
     "name": "stdout",
     "output_type": "stream",
     "text": [
      "2010s: ['7 Rings', 'Shape of You', 'Hotline Bling', 'Blank Space', 'Uptown Funk', 'Diamonds', 'Someone Like You']\n",
      "2000s: ['Bad Romance', 'Halo', 'Stronger', \"Hips Don't Lie\", 'Yellow']\n",
      "1990s: ['Smells Like Teen Spirit']\n",
      "1980s: ['Like a Prayer', 'Billie Jean']\n",
      "1970s: ['Bohemian Rhapsody', 'Your Song']\n",
      "1960s: ['Space Oddity', 'Hey Jude', 'Like a Rolling Stone']\n"
     ]
    }
   ],
   "source": [
    "canciones_por_decada = {}\n",
    "\n",
    "for cancion, anio in cancion_lanzamiento.items():\n",
    "\n",
    "    decada = (int(anio) // 10) * 10 \n",
    "    decada_str = f\"{decada}s\"\n",
    "    \n",
    "    if decada_str not in canciones_por_decada:\n",
    "        canciones_por_decada[decada_str] = []\n",
    "\n",
    "    canciones_por_decada[decada_str].append(cancion)\n",
    "\n",
    "for decada, canciones in canciones_por_decada.items():\n",
    "    print(f\"{decada}: {canciones}\")"
   ]
  },
  {
   "cell_type": "code",
   "execution_count": null,
   "metadata": {},
   "outputs": [],
   "source": []
  }
 ],
 "metadata": {
  "kernelspec": {
   "display_name": "Python 3",
   "language": "python",
   "name": "python3"
  },
  "language_info": {
   "codemirror_mode": {
    "name": "ipython",
    "version": 3
   },
   "file_extension": ".py",
   "mimetype": "text/x-python",
   "name": "python",
   "nbconvert_exporter": "python",
   "pygments_lexer": "ipython3",
   "version": "3.11.9"
  }
 },
 "nbformat": 4,
 "nbformat_minor": 2
}
